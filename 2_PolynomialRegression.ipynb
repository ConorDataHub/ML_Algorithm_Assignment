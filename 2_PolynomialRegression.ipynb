{
  "nbformat": 4,
  "nbformat_minor": 0,
  "metadata": {
    "kernelspec": {
      "display_name": "Python 3",
      "language": "python",
      "name": "python3"
    },
    "language_info": {
      "codemirror_mode": {
        "name": "ipython",
        "version": 3
      },
      "file_extension": ".py",
      "mimetype": "text/x-python",
      "name": "python",
      "nbconvert_exporter": "python",
      "pygments_lexer": "ipython3",
      "version": "3.7.3"
    },
    "colab": {
      "name": "2-PolynomialRegression.ipynb",
      "provenance": []
    }
  },
  "cells": [
    {
      "cell_type": "markdown",
      "metadata": {
        "id": "t1Q0E1BlZ3Ty"
      },
      "source": [
        "# Polynomial Regression"
      ]
    },
    {
      "cell_type": "markdown",
      "metadata": {
        "id": "GQ_wlwNMZ3Tz"
      },
      "source": [
        "What if your data doesn't look linear at all? Let's look at some more realistic-looking page speed / purchase data:"
      ]
    },
    {
      "cell_type": "code",
      "metadata": {
        "id": "MVLcotK9Z3T0",
        "outputId": "c2f99a32-9887-446f-8cc6-2d3e6401ad4e",
        "colab": {
          "base_uri": "https://localhost:8080/",
          "height": 206
        }
      },
      "source": [
        "%matplotlib inline                    \n",
        "import numpy as np                          # Numpy is a library mainly used for working with arrays\n",
        "import pandas as pd                         # Pandas is a Python library mainly used for working with data sets \n",
        "import matplotlib.pyplot as plt             # Matplot lib is used for plotting, in this case pyplot will be used to create a scatter plot\n",
        " \n",
        "\n",
        "dataset = pd.read_csv(\"HSE_Salary.csv\")     # Variable called dataset is now assigned the values of csv \"HSE_Salary.csv\" file\n",
        "\n",
        "dataset.head()                              # This function acts as a test to see did the file upload correctly, if so it will display the first 5 rows of data"
      ],
      "execution_count": 3,
      "outputs": [
        {
          "output_type": "execute_result",
          "data": {
            "text/plain": [
              "   Index                                  Grade Description    Pay\n",
              "0      1                               PHLEBOTOMIST TRAINEE  20767\n",
              "1      2  STUDENT MENTAL HEALTH NURSE\\n(ROSTERED PLACEMENT)  22729\n",
              "2      3                         E.C.G. TECHNICIAN, STUDENT  24451\n",
              "3      4                                   PHARMACY STUDENT  25398\n",
              "4      5                 PHARMACEUTICAL TECHNICIAN, STUDENT  25913"
            ],
            "text/html": [
              "\n",
              "  <div id=\"df-2b352aaa-6823-4451-9bdb-c28410bf3043\">\n",
              "    <div class=\"colab-df-container\">\n",
              "      <div>\n",
              "<style scoped>\n",
              "    .dataframe tbody tr th:only-of-type {\n",
              "        vertical-align: middle;\n",
              "    }\n",
              "\n",
              "    .dataframe tbody tr th {\n",
              "        vertical-align: top;\n",
              "    }\n",
              "\n",
              "    .dataframe thead th {\n",
              "        text-align: right;\n",
              "    }\n",
              "</style>\n",
              "<table border=\"1\" class=\"dataframe\">\n",
              "  <thead>\n",
              "    <tr style=\"text-align: right;\">\n",
              "      <th></th>\n",
              "      <th>Index</th>\n",
              "      <th>Grade Description</th>\n",
              "      <th>Pay</th>\n",
              "    </tr>\n",
              "  </thead>\n",
              "  <tbody>\n",
              "    <tr>\n",
              "      <th>0</th>\n",
              "      <td>1</td>\n",
              "      <td>PHLEBOTOMIST TRAINEE</td>\n",
              "      <td>20767</td>\n",
              "    </tr>\n",
              "    <tr>\n",
              "      <th>1</th>\n",
              "      <td>2</td>\n",
              "      <td>STUDENT MENTAL HEALTH NURSE\\n(ROSTERED PLACEMENT)</td>\n",
              "      <td>22729</td>\n",
              "    </tr>\n",
              "    <tr>\n",
              "      <th>2</th>\n",
              "      <td>3</td>\n",
              "      <td>E.C.G. TECHNICIAN, STUDENT</td>\n",
              "      <td>24451</td>\n",
              "    </tr>\n",
              "    <tr>\n",
              "      <th>3</th>\n",
              "      <td>4</td>\n",
              "      <td>PHARMACY STUDENT</td>\n",
              "      <td>25398</td>\n",
              "    </tr>\n",
              "    <tr>\n",
              "      <th>4</th>\n",
              "      <td>5</td>\n",
              "      <td>PHARMACEUTICAL TECHNICIAN, STUDENT</td>\n",
              "      <td>25913</td>\n",
              "    </tr>\n",
              "  </tbody>\n",
              "</table>\n",
              "</div>\n",
              "      <button class=\"colab-df-convert\" onclick=\"convertToInteractive('df-2b352aaa-6823-4451-9bdb-c28410bf3043')\"\n",
              "              title=\"Convert this dataframe to an interactive table.\"\n",
              "              style=\"display:none;\">\n",
              "        \n",
              "  <svg xmlns=\"http://www.w3.org/2000/svg\" height=\"24px\"viewBox=\"0 0 24 24\"\n",
              "       width=\"24px\">\n",
              "    <path d=\"M0 0h24v24H0V0z\" fill=\"none\"/>\n",
              "    <path d=\"M18.56 5.44l.94 2.06.94-2.06 2.06-.94-2.06-.94-.94-2.06-.94 2.06-2.06.94zm-11 1L8.5 8.5l.94-2.06 2.06-.94-2.06-.94L8.5 2.5l-.94 2.06-2.06.94zm10 10l.94 2.06.94-2.06 2.06-.94-2.06-.94-.94-2.06-.94 2.06-2.06.94z\"/><path d=\"M17.41 7.96l-1.37-1.37c-.4-.4-.92-.59-1.43-.59-.52 0-1.04.2-1.43.59L10.3 9.45l-7.72 7.72c-.78.78-.78 2.05 0 2.83L4 21.41c.39.39.9.59 1.41.59.51 0 1.02-.2 1.41-.59l7.78-7.78 2.81-2.81c.8-.78.8-2.07 0-2.86zM5.41 20L4 18.59l7.72-7.72 1.47 1.35L5.41 20z\"/>\n",
              "  </svg>\n",
              "      </button>\n",
              "      \n",
              "  <style>\n",
              "    .colab-df-container {\n",
              "      display:flex;\n",
              "      flex-wrap:wrap;\n",
              "      gap: 12px;\n",
              "    }\n",
              "\n",
              "    .colab-df-convert {\n",
              "      background-color: #E8F0FE;\n",
              "      border: none;\n",
              "      border-radius: 50%;\n",
              "      cursor: pointer;\n",
              "      display: none;\n",
              "      fill: #1967D2;\n",
              "      height: 32px;\n",
              "      padding: 0 0 0 0;\n",
              "      width: 32px;\n",
              "    }\n",
              "\n",
              "    .colab-df-convert:hover {\n",
              "      background-color: #E2EBFA;\n",
              "      box-shadow: 0px 1px 2px rgba(60, 64, 67, 0.3), 0px 1px 3px 1px rgba(60, 64, 67, 0.15);\n",
              "      fill: #174EA6;\n",
              "    }\n",
              "\n",
              "    [theme=dark] .colab-df-convert {\n",
              "      background-color: #3B4455;\n",
              "      fill: #D2E3FC;\n",
              "    }\n",
              "\n",
              "    [theme=dark] .colab-df-convert:hover {\n",
              "      background-color: #434B5C;\n",
              "      box-shadow: 0px 1px 3px 1px rgba(0, 0, 0, 0.15);\n",
              "      filter: drop-shadow(0px 1px 2px rgba(0, 0, 0, 0.3));\n",
              "      fill: #FFFFFF;\n",
              "    }\n",
              "  </style>\n",
              "\n",
              "      <script>\n",
              "        const buttonEl =\n",
              "          document.querySelector('#df-2b352aaa-6823-4451-9bdb-c28410bf3043 button.colab-df-convert');\n",
              "        buttonEl.style.display =\n",
              "          google.colab.kernel.accessAllowed ? 'block' : 'none';\n",
              "\n",
              "        async function convertToInteractive(key) {\n",
              "          const element = document.querySelector('#df-2b352aaa-6823-4451-9bdb-c28410bf3043');\n",
              "          const dataTable =\n",
              "            await google.colab.kernel.invokeFunction('convertToInteractive',\n",
              "                                                     [key], {});\n",
              "          if (!dataTable) return;\n",
              "\n",
              "          const docLinkHtml = 'Like what you see? Visit the ' +\n",
              "            '<a target=\"_blank\" href=https://colab.research.google.com/notebooks/data_table.ipynb>data table notebook</a>'\n",
              "            + ' to learn more about interactive tables.';\n",
              "          element.innerHTML = '';\n",
              "          dataTable['output_type'] = 'display_data';\n",
              "          await google.colab.output.renderOutput(dataTable, element);\n",
              "          const docLink = document.createElement('div');\n",
              "          docLink.innerHTML = docLinkHtml;\n",
              "          element.appendChild(docLink);\n",
              "        }\n",
              "      </script>\n",
              "    </div>\n",
              "  </div>\n",
              "  "
            ]
          },
          "metadata": {},
          "execution_count": 3
        }
      ]
    },
    {
      "cell_type": "code",
      "source": [
        "dataset.tail()                          # This function shows the last 5 rows of data and is included to show the highest salaries and job titles in the dataset\n",
        "                                        # note that the data is actual but some of it is redundant and has been replaced by a more recent salary scale"
      ],
      "metadata": {
        "colab": {
          "base_uri": "https://localhost:8080/",
          "height": 206
        },
        "id": "t_HJPmjqt_zy",
        "outputId": "53d47549-5042-45a9-feba-9a6f9035f2ac"
      },
      "execution_count": 63,
      "outputs": [
        {
          "output_type": "execute_result",
          "data": {
            "text/plain": [
              "     Index                                  Grade Description     Pay\n",
              "437    438            NATIONAL DIRECTOR, INTERNAL AUDIT (HSE)  156072\n",
              "438    439  GENERAL MANAGER (CORK UNIVERSITY\\nHOSPITAL)(GA...  156072\n",
              "439    440  CHIEF EXECUTIVE (BEAUMONT)(ST. JAMES)(ST.\\nVIN...  156072\n",
              "440    441  NATIONAL DIRECTOR OF CORPORATE PLANNING\\nAND C...  156072\n",
              "441    442  HEALTH BOARD AREA CHIEF OFFICER (HSE\\nEASTERN ...  160506"
            ],
            "text/html": [
              "\n",
              "  <div id=\"df-300e7c6f-6be9-44ed-907f-5e16347a6fbb\">\n",
              "    <div class=\"colab-df-container\">\n",
              "      <div>\n",
              "<style scoped>\n",
              "    .dataframe tbody tr th:only-of-type {\n",
              "        vertical-align: middle;\n",
              "    }\n",
              "\n",
              "    .dataframe tbody tr th {\n",
              "        vertical-align: top;\n",
              "    }\n",
              "\n",
              "    .dataframe thead th {\n",
              "        text-align: right;\n",
              "    }\n",
              "</style>\n",
              "<table border=\"1\" class=\"dataframe\">\n",
              "  <thead>\n",
              "    <tr style=\"text-align: right;\">\n",
              "      <th></th>\n",
              "      <th>Index</th>\n",
              "      <th>Grade Description</th>\n",
              "      <th>Pay</th>\n",
              "    </tr>\n",
              "  </thead>\n",
              "  <tbody>\n",
              "    <tr>\n",
              "      <th>437</th>\n",
              "      <td>438</td>\n",
              "      <td>NATIONAL DIRECTOR, INTERNAL AUDIT (HSE)</td>\n",
              "      <td>156072</td>\n",
              "    </tr>\n",
              "    <tr>\n",
              "      <th>438</th>\n",
              "      <td>439</td>\n",
              "      <td>GENERAL MANAGER (CORK UNIVERSITY\\nHOSPITAL)(GA...</td>\n",
              "      <td>156072</td>\n",
              "    </tr>\n",
              "    <tr>\n",
              "      <th>439</th>\n",
              "      <td>440</td>\n",
              "      <td>CHIEF EXECUTIVE (BEAUMONT)(ST. JAMES)(ST.\\nVIN...</td>\n",
              "      <td>156072</td>\n",
              "    </tr>\n",
              "    <tr>\n",
              "      <th>440</th>\n",
              "      <td>441</td>\n",
              "      <td>NATIONAL DIRECTOR OF CORPORATE PLANNING\\nAND C...</td>\n",
              "      <td>156072</td>\n",
              "    </tr>\n",
              "    <tr>\n",
              "      <th>441</th>\n",
              "      <td>442</td>\n",
              "      <td>HEALTH BOARD AREA CHIEF OFFICER (HSE\\nEASTERN ...</td>\n",
              "      <td>160506</td>\n",
              "    </tr>\n",
              "  </tbody>\n",
              "</table>\n",
              "</div>\n",
              "      <button class=\"colab-df-convert\" onclick=\"convertToInteractive('df-300e7c6f-6be9-44ed-907f-5e16347a6fbb')\"\n",
              "              title=\"Convert this dataframe to an interactive table.\"\n",
              "              style=\"display:none;\">\n",
              "        \n",
              "  <svg xmlns=\"http://www.w3.org/2000/svg\" height=\"24px\"viewBox=\"0 0 24 24\"\n",
              "       width=\"24px\">\n",
              "    <path d=\"M0 0h24v24H0V0z\" fill=\"none\"/>\n",
              "    <path d=\"M18.56 5.44l.94 2.06.94-2.06 2.06-.94-2.06-.94-.94-2.06-.94 2.06-2.06.94zm-11 1L8.5 8.5l.94-2.06 2.06-.94-2.06-.94L8.5 2.5l-.94 2.06-2.06.94zm10 10l.94 2.06.94-2.06 2.06-.94-2.06-.94-.94-2.06-.94 2.06-2.06.94z\"/><path d=\"M17.41 7.96l-1.37-1.37c-.4-.4-.92-.59-1.43-.59-.52 0-1.04.2-1.43.59L10.3 9.45l-7.72 7.72c-.78.78-.78 2.05 0 2.83L4 21.41c.39.39.9.59 1.41.59.51 0 1.02-.2 1.41-.59l7.78-7.78 2.81-2.81c.8-.78.8-2.07 0-2.86zM5.41 20L4 18.59l7.72-7.72 1.47 1.35L5.41 20z\"/>\n",
              "  </svg>\n",
              "      </button>\n",
              "      \n",
              "  <style>\n",
              "    .colab-df-container {\n",
              "      display:flex;\n",
              "      flex-wrap:wrap;\n",
              "      gap: 12px;\n",
              "    }\n",
              "\n",
              "    .colab-df-convert {\n",
              "      background-color: #E8F0FE;\n",
              "      border: none;\n",
              "      border-radius: 50%;\n",
              "      cursor: pointer;\n",
              "      display: none;\n",
              "      fill: #1967D2;\n",
              "      height: 32px;\n",
              "      padding: 0 0 0 0;\n",
              "      width: 32px;\n",
              "    }\n",
              "\n",
              "    .colab-df-convert:hover {\n",
              "      background-color: #E2EBFA;\n",
              "      box-shadow: 0px 1px 2px rgba(60, 64, 67, 0.3), 0px 1px 3px 1px rgba(60, 64, 67, 0.15);\n",
              "      fill: #174EA6;\n",
              "    }\n",
              "\n",
              "    [theme=dark] .colab-df-convert {\n",
              "      background-color: #3B4455;\n",
              "      fill: #D2E3FC;\n",
              "    }\n",
              "\n",
              "    [theme=dark] .colab-df-convert:hover {\n",
              "      background-color: #434B5C;\n",
              "      box-shadow: 0px 1px 3px 1px rgba(0, 0, 0, 0.15);\n",
              "      filter: drop-shadow(0px 1px 2px rgba(0, 0, 0, 0.3));\n",
              "      fill: #FFFFFF;\n",
              "    }\n",
              "  </style>\n",
              "\n",
              "      <script>\n",
              "        const buttonEl =\n",
              "          document.querySelector('#df-300e7c6f-6be9-44ed-907f-5e16347a6fbb button.colab-df-convert');\n",
              "        buttonEl.style.display =\n",
              "          google.colab.kernel.accessAllowed ? 'block' : 'none';\n",
              "\n",
              "        async function convertToInteractive(key) {\n",
              "          const element = document.querySelector('#df-300e7c6f-6be9-44ed-907f-5e16347a6fbb');\n",
              "          const dataTable =\n",
              "            await google.colab.kernel.invokeFunction('convertToInteractive',\n",
              "                                                     [key], {});\n",
              "          if (!dataTable) return;\n",
              "\n",
              "          const docLinkHtml = 'Like what you see? Visit the ' +\n",
              "            '<a target=\"_blank\" href=https://colab.research.google.com/notebooks/data_table.ipynb>data table notebook</a>'\n",
              "            + ' to learn more about interactive tables.';\n",
              "          element.innerHTML = '';\n",
              "          dataTable['output_type'] = 'display_data';\n",
              "          await google.colab.output.renderOutput(dataTable, element);\n",
              "          const docLink = document.createElement('div');\n",
              "          docLink.innerHTML = docLinkHtml;\n",
              "          element.appendChild(docLink);\n",
              "        }\n",
              "      </script>\n",
              "    </div>\n",
              "  </div>\n",
              "  "
            ]
          },
          "metadata": {},
          "execution_count": 63
        }
      ]
    },
    {
      "cell_type": "markdown",
      "metadata": {
        "id": "v9Moux1pZ3T3"
      },
      "source": [
        "numpy has a handy polyfit function we can use, to let us construct an nth-degree polynomial model of our data that minimizes squared error. Let's try it with a 4th degree polynomial:"
      ]
    },
    {
      "cell_type": "code",
      "metadata": {
        "id": "PQS_zpIFZ3T4",
        "colab": {
          "base_uri": "https://localhost:8080/",
          "height": 295
        },
        "outputId": "f882ab01-2e46-474a-f094-7429df572dcb"
      },
      "source": [
        "index = dataset[\"Index\"]\n",
        "salaries = dataset[\"Pay\"]\n",
        "x = np.array(index)\n",
        "y = np.array(salaries)\n",
        "\n",
        "fit_xy = np.polyfit(x, y, 12)            # This function takes 2 arrays, in this case x and y. The third parameter is the number of polynomials you want it to return so that the line best fits your scatter plot\n",
        "polyNom = np.poly1d(fit_xy)              # This function takes one parameter and returns polynomial formula. We had to fit the x and y variables in the above function in order to pass them to np.poly1d\n",
        "\n",
        "lineWidth = np.linspace(0,450)           # The linspace() function starts takes a start and end parameter(starts at 0 and ends at 450) There are 441 rows so 450 will cover all with a small bit more.\n",
        "plt.plot(lineWidth, polyNom(lineWidth), c='r')  # Here we are plotting the line only, \n",
        "\n",
        "plt.scatter(index, salaries)\n",
        "plt.xlabel(\"Rank of Earnings in Asc Order\")\n",
        "plt.ylabel(\"Salary in €\")\n",
        "plt.title(\"Asc Rank of HSE Salaries\")\n",
        "plt.show()\n",
        "\n"
      ],
      "execution_count": 122,
      "outputs": [
        {
          "output_type": "display_data",
          "data": {
            "text/plain": [
              "<Figure size 432x288 with 1 Axes>"
            ],
            "image/png": "[encoded data removed]"
          },
          "metadata": {
            "needs_background": "light"
          }
        }
      ]
    },
    {
      "cell_type": "markdown",
      "metadata": {
        "id": "VDLdj4vzZ3T_"
      },
      "source": [
        "Looks pretty good! Let's measure the r-squared error:"
      ]
    },
    {
      "cell_type": "code",
      "metadata": {
        "id": "0g1uCqnzZ3T_",
        "outputId": "b3200d9c-9cee-45fd-b178-95f1eba03aaf",
        "colab": {
          "base_uri": "https://localhost:8080/"
        }
      },
      "source": [
        "from sklearn.metrics import r2_score\n",
        "\n",
        "r2 = r2_score(y, polyNom(x))\n",
        "\n",
        "print(r2)\n"
      ],
      "execution_count": 120,
      "outputs": [
        {
          "output_type": "stream",
          "name": "stdout",
          "text": [
            "0.99363108928012\n"
          ]
        }
      ]
    }
  ]
}