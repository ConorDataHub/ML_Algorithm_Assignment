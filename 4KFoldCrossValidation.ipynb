{
  "nbformat": 4,
  "nbformat_minor": 0,
  "metadata": {
    "kernelspec": {
      "display_name": "Python 3",
      "language": "python",
      "name": "python3"
    },
    "language_info": {
      "codemirror_mode": {
        "name": "ipython",
        "version": 3
      },
      "file_extension": ".py",
      "mimetype": "text/x-python",
      "name": "python",
      "nbconvert_exporter": "python",
      "pygments_lexer": "ipython3",
      "version": "3.7.3"
    },
    "colab": {
      "name": "KFoldCrossValidation.ipynb",
      "provenance": [],
      "collapsed_sections": []
    }
  },
  "cells": [
    {
      "cell_type": "markdown",
      "metadata": {
        "id": "xUBnsr-EHMOt"
      },
      "source": [
        "# K-Fold Cross Validation"
      ]
    },
    {
      "cell_type": "markdown",
      "metadata": {
        "id": "tTnOvu4zHMOu"
      },
      "source": [
        "Let's revisit the song_df data set:"
      ]
    },
    {
      "cell_type": "code",
      "metadata": {
        "id": "c4Lodd-GHMOv",
        "outputId": "fc41afd9-8bdb-41f4-864f-6acb6e58f3d0",
        "colab": {
          "base_uri": "https://localhost:8080/",
          "height": 73
        }
      },
      "source": [
        "import numpy as np\n",
        "import pandas as pd\n",
        "from sklearn.model_selection import cross_val_score, train_test_split\n",
        "from sklearn import svm\n",
        "import io\n",
        "\n",
        "# https://www.kaggle.com/datasets/nitishraj/song-popularity-k-folds             link to dataset - 15,000 rows are deleted as the SVM runtime was over 3.5 minutes for the full data set\n",
        "\n",
        "from google.colab import files\n",
        "uploaded = files.upload()\n",
        "song_df = pd.read_csv(io.BytesIO(uploaded['song_popularity.csv']))\n"
      ],
      "execution_count": 1,
      "outputs": [
        {
          "output_type": "display_data",
          "data": {
            "text/plain": [
              "<IPython.core.display.HTML object>"
            ],
            "text/html": [
              "\n",
              "     <input type=\"file\" id=\"files-13e7961c-9fbc-424c-af67-4e45be391a7b\" name=\"files[]\" multiple disabled\n",
              "        style=\"border:none\" />\n",
              "     <output id=\"result-13e7961c-9fbc-424c-af67-4e45be391a7b\">\n",
              "      Upload widget is only available when the cell has been executed in the\n",
              "      current browser session. Please rerun this cell to enable.\n",
              "      </output>\n",
              "      <script>// Copyright 2017 Google LLC\n",
              "//\n",
              "// Licensed under the Apache License, Version 2.0 (the \"License\");\n",
              "// you may not use this file except in compliance with the License.\n",
              "// You may obtain a copy of the License at\n",
              "//\n",
              "//      http://www.apache.org/licenses/LICENSE-2.0\n",
              "//\n",
              "// Unless required by applicable law or agreed to in writing, software\n",
              "// distributed under the License is distributed on an \"AS IS\" BASIS,\n",
              "// WITHOUT WARRANTIES OR CONDITIONS OF ANY KIND, either express or implied.\n",
              "// See the License for the specific language governing permissions and\n",
              "// limitations under the License.\n",
              "\n",
              "/**\n",
              " * @fileoverview Helpers for google.colab Python module.\n",
              " */\n",
              "(function(scope) {\n",
              "function span(text, styleAttributes = {}) {\n",
              "  const element = document.createElement('span');\n",
              "  element.textContent = text;\n",
              "  for (const key of Object.keys(styleAttributes)) {\n",
              "    element.style[key] = styleAttributes[key];\n",
              "  }\n",
              "  return element;\n",
              "}\n",
              "\n",
              "// Max number of bytes which will be uploaded at a time.\n",
              "const MAX_PAYLOAD_SIZE = 100 * 1024;\n",
              "\n",
              "function _uploadFiles(inputId, outputId) {\n",
              "  const steps = uploadFilesStep(inputId, outputId);\n",
              "  const outputElement = document.getElementById(outputId);\n",
              "  // Cache steps on the outputElement to make it available for the next call\n",
              "  // to uploadFilesContinue from Python.\n",
              "  outputElement.steps = steps;\n",
              "\n",
              "  return _uploadFilesContinue(outputId);\n",
              "}\n",
              "\n",
              "// This is roughly an async generator (not supported in the browser yet),\n",
              "// where there are multiple asynchronous steps and the Python side is going\n",
              "// to poll for completion of each step.\n",
              "// This uses a Promise to block the python side on completion of each step,\n",
              "// then passes the result of the previous step as the input to the next step.\n",
              "function _uploadFilesContinue(outputId) {\n",
              "  const outputElement = document.getElementById(outputId);\n",
              "  const steps = outputElement.steps;\n",
              "\n",
              "  const next = steps.next(outputElement.lastPromiseValue);\n",
              "  return Promise.resolve(next.value.promise).then((value) => {\n",
              "    // Cache the last promise value to make it available to the next\n",
              "    // step of the generator.\n",
              "    outputElement.lastPromiseValue = value;\n",
              "    return next.value.response;\n",
              "  });\n",
              "}\n",
              "\n",
              "/**\n",
              " * Generator function which is called between each async step of the upload\n",
              " * process.\n",
              " * @param {string} inputId Element ID of the input file picker element.\n",
              " * @param {string} outputId Element ID of the output display.\n",
              " * @return {!Iterable<!Object>} Iterable of next steps.\n",
              " */\n",
              "function* uploadFilesStep(inputId, outputId) {\n",
              "  const inputElement = document.getElementById(inputId);\n",
              "  inputElement.disabled = false;\n",
              "\n",
              "  const outputElement = document.getElementById(outputId);\n",
              "  outputElement.innerHTML = '';\n",
              "\n",
              "  const pickedPromise = new Promise((resolve) => {\n",
              "    inputElement.addEventListener('change', (e) => {\n",
              "      resolve(e.target.files);\n",
              "    });\n",
              "  });\n",
              "\n",
              "  const cancel = document.createElement('button');\n",
              "  inputElement.parentElement.appendChild(cancel);\n",
              "  cancel.textContent = 'Cancel upload';\n",
              "  const cancelPromise = new Promise((resolve) => {\n",
              "    cancel.onclick = () => {\n",
              "      resolve(null);\n",
              "    };\n",
              "  });\n",
              "\n",
              "  // Wait for the user to pick the files.\n",
              "  const files = yield {\n",
              "    promise: Promise.race([pickedPromise, cancelPromise]),\n",
              "    response: {\n",
              "      action: 'starting',\n",
              "    }\n",
              "  };\n",
              "\n",
              "  cancel.remove();\n",
              "\n",
              "  // Disable the input element since further picks are not allowed.\n",
              "  inputElement.disabled = true;\n",
              "\n",
              "  if (!files) {\n",
              "    return {\n",
              "      response: {\n",
              "        action: 'complete',\n",
              "      }\n",
              "    };\n",
              "  }\n",
              "\n",
              "  for (const file of files) {\n",
              "    const li = document.createElement('li');\n",
              "    li.append(span(file.name, {fontWeight: 'bold'}));\n",
              "    li.append(span(\n",
              "        `(${file.type || 'n/a'}) - ${file.size} bytes, ` +\n",
              "        `last modified: ${\n",
              "            file.lastModifiedDate ? file.lastModifiedDate.toLocaleDateString() :\n",
              "                                    'n/a'} - `));\n",
              "    const percent = span('0% done');\n",
              "    li.appendChild(percent);\n",
              "\n",
              "    outputElement.appendChild(li);\n",
              "\n",
              "    const fileDataPromise = new Promise((resolve) => {\n",
              "      const reader = new FileReader();\n",
              "      reader.onload = (e) => {\n",
              "        resolve(e.target.result);\n",
              "      };\n",
              "      reader.readAsArrayBuffer(file);\n",
              "    });\n",
              "    // Wait for the data to be ready.\n",
              "    let fileData = yield {\n",
              "      promise: fileDataPromise,\n",
              "      response: {\n",
              "        action: 'continue',\n",
              "      }\n",
              "    };\n",
              "\n",
              "    // Use a chunked sending to avoid message size limits. See b/62115660.\n",
              "    let position = 0;\n",
              "    do {\n",
              "      const length = Math.min(fileData.byteLength - position, MAX_PAYLOAD_SIZE);\n",
              "      const chunk = new Uint8Array(fileData, position, length);\n",
              "      position += length;\n",
              "\n",
              "      const base64 = btoa(String.fromCharCode.apply(null, chunk));\n",
              "      yield {\n",
              "        response: {\n",
              "          action: 'append',\n",
              "          file: file.name,\n",
              "          data: base64,\n",
              "        },\n",
              "      };\n",
              "\n",
              "      let percentDone = fileData.byteLength === 0 ?\n",
              "          100 :\n",
              "          Math.round((position / fileData.byteLength) * 100);\n",
              "      percent.textContent = `${percentDone}% done`;\n",
              "\n",
              "    } while (position < fileData.byteLength);\n",
              "  }\n",
              "\n",
              "  // All done.\n",
              "  yield {\n",
              "    response: {\n",
              "      action: 'complete',\n",
              "    }\n",
              "  };\n",
              "}\n",
              "\n",
              "scope.google = scope.google || {};\n",
              "scope.google.colab = scope.google.colab || {};\n",
              "scope.google.colab._files = {\n",
              "  _uploadFiles,\n",
              "  _uploadFilesContinue,\n",
              "};\n",
              "})(self);\n",
              "</script> "
            ]
          },
          "metadata": {}
        },
        {
          "output_type": "stream",
          "name": "stdout",
          "text": [
            "Saving song_popularity.csv to song_popularity.csv\n"
          ]
        }
      ]
    },
    {
      "cell_type": "code",
      "source": [
        "song_df.head()                # get a visual of the dataset"
      ],
      "metadata": {
        "id": "Ktq7fCOocBuV",
        "outputId": "309e01af-11a4-4d06-f71f-5451fd1eabc4",
        "colab": {
          "base_uri": "https://localhost:8080/",
          "height": 206
        }
      },
      "execution_count": 2,
      "outputs": [
        {
          "output_type": "execute_result",
          "data": {
            "text/plain": [
              "      id  song_duration_ms  acousticness  danceability    energy  \\\n",
              "0  25525          160207.0      0.468952      0.558192  0.542314   \n",
              "1  29945          175575.0      0.562466      0.837785  0.684599   \n",
              "2  22765           66156.0      1.025163           NaN       NaN   \n",
              "3   9738          194331.0      0.101652           NaN  0.811663   \n",
              "4  25087          250925.0      0.676626      0.822191  0.413637   \n",
              "\n",
              "   instrumentalness   key  liveness   loudness  audio_mode  speechiness  \\\n",
              "0          0.004122   1.0       NaN        NaN           1     0.048953   \n",
              "1          0.001808   NaN  0.124795        NaN           1     0.053656   \n",
              "2          0.007247   7.0  0.127724 -21.378036           0     0.033405   \n",
              "3          0.002250   5.0  0.116150  -4.430667           1     0.106921   \n",
              "4               NaN  10.0  0.110757  -8.159729           1     0.106729   \n",
              "\n",
              "        tempo  time_signature  audio_valence  song_popularity  \n",
              "0  118.507699               4       0.736457                0  \n",
              "1  102.400007               3       0.651180                1  \n",
              "2   81.077515               2       0.132257                0  \n",
              "3   79.334070               3       0.418870                0  \n",
              "4  101.913642               3       0.406016                0  "
            ],
            "text/html": [
              "\n",
              "  <div id=\"df-8925ae65-15b5-46b4-aee9-625159e8f601\">\n",
              "    <div class=\"colab-df-container\">\n",
              "      <div>\n",
              "<style scoped>\n",
              "    .dataframe tbody tr th:only-of-type {\n",
              "        vertical-align: middle;\n",
              "    }\n",
              "\n",
              "    .dataframe tbody tr th {\n",
              "        vertical-align: top;\n",
              "    }\n",
              "\n",
              "    .dataframe thead th {\n",
              "        text-align: right;\n",
              "    }\n",
              "</style>\n",
              "<table border=\"1\" class=\"dataframe\">\n",
              "  <thead>\n",
              "    <tr style=\"text-align: right;\">\n",
              "      <th></th>\n",
              "      <th>id</th>\n",
              "      <th>song_duration_ms</th>\n",
              "      <th>acousticness</th>\n",
              "      <th>danceability</th>\n",
              "      <th>energy</th>\n",
              "      <th>instrumentalness</th>\n",
              "      <th>key</th>\n",
              "      <th>liveness</th>\n",
              "      <th>loudness</th>\n",
              "      <th>audio_mode</th>\n",
              "      <th>speechiness</th>\n",
              "      <th>tempo</th>\n",
              "      <th>time_signature</th>\n",
              "      <th>audio_valence</th>\n",
              "      <th>song_popularity</th>\n",
              "    </tr>\n",
              "  </thead>\n",
              "  <tbody>\n",
              "    <tr>\n",
              "      <th>0</th>\n",
              "      <td>25525</td>\n",
              "      <td>160207.0</td>\n",
              "      <td>0.468952</td>\n",
              "      <td>0.558192</td>\n",
              "      <td>0.542314</td>\n",
              "      <td>0.004122</td>\n",
              "      <td>1.0</td>\n",
              "      <td>NaN</td>\n",
              "      <td>NaN</td>\n",
              "      <td>1</td>\n",
              "      <td>0.048953</td>\n",
              "      <td>118.507699</td>\n",
              "      <td>4</td>\n",
              "      <td>0.736457</td>\n",
              "      <td>0</td>\n",
              "    </tr>\n",
              "    <tr>\n",
              "      <th>1</th>\n",
              "      <td>29945</td>\n",
              "      <td>175575.0</td>\n",
              "      <td>0.562466</td>\n",
              "      <td>0.837785</td>\n",
              "      <td>0.684599</td>\n",
              "      <td>0.001808</td>\n",
              "      <td>NaN</td>\n",
              "      <td>0.124795</td>\n",
              "      <td>NaN</td>\n",
              "      <td>1</td>\n",
              "      <td>0.053656</td>\n",
              "      <td>102.400007</td>\n",
              "      <td>3</td>\n",
              "      <td>0.651180</td>\n",
              "      <td>1</td>\n",
              "    </tr>\n",
              "    <tr>\n",
              "      <th>2</th>\n",
              "      <td>22765</td>\n",
              "      <td>66156.0</td>\n",
              "      <td>1.025163</td>\n",
              "      <td>NaN</td>\n",
              "      <td>NaN</td>\n",
              "      <td>0.007247</td>\n",
              "      <td>7.0</td>\n",
              "      <td>0.127724</td>\n",
              "      <td>-21.378036</td>\n",
              "      <td>0</td>\n",
              "      <td>0.033405</td>\n",
              "      <td>81.077515</td>\n",
              "      <td>2</td>\n",
              "      <td>0.132257</td>\n",
              "      <td>0</td>\n",
              "    </tr>\n",
              "    <tr>\n",
              "      <th>3</th>\n",
              "      <td>9738</td>\n",
              "      <td>194331.0</td>\n",
              "      <td>0.101652</td>\n",
              "      <td>NaN</td>\n",
              "      <td>0.811663</td>\n",
              "      <td>0.002250</td>\n",
              "      <td>5.0</td>\n",
              "      <td>0.116150</td>\n",
              "      <td>-4.430667</td>\n",
              "      <td>1</td>\n",
              "      <td>0.106921</td>\n",
              "      <td>79.334070</td>\n",
              "      <td>3</td>\n",
              "      <td>0.418870</td>\n",
              "      <td>0</td>\n",
              "    </tr>\n",
              "    <tr>\n",
              "      <th>4</th>\n",
              "      <td>25087</td>\n",
              "      <td>250925.0</td>\n",
              "      <td>0.676626</td>\n",
              "      <td>0.822191</td>\n",
              "      <td>0.413637</td>\n",
              "      <td>NaN</td>\n",
              "      <td>10.0</td>\n",
              "      <td>0.110757</td>\n",
              "      <td>-8.159729</td>\n",
              "      <td>1</td>\n",
              "      <td>0.106729</td>\n",
              "      <td>101.913642</td>\n",
              "      <td>3</td>\n",
              "      <td>0.406016</td>\n",
              "      <td>0</td>\n",
              "    </tr>\n",
              "  </tbody>\n",
              "</table>\n",
              "</div>\n",
              "      <button class=\"colab-df-convert\" onclick=\"convertToInteractive('df-8925ae65-15b5-46b4-aee9-625159e8f601')\"\n",
              "              title=\"Convert this dataframe to an interactive table.\"\n",
              "              style=\"display:none;\">\n",
              "        \n",
              "  <svg xmlns=\"http://www.w3.org/2000/svg\" height=\"24px\"viewBox=\"0 0 24 24\"\n",
              "       width=\"24px\">\n",
              "    <path d=\"M0 0h24v24H0V0z\" fill=\"none\"/>\n",
              "    <path d=\"M18.56 5.44l.94 2.06.94-2.06 2.06-.94-2.06-.94-.94-2.06-.94 2.06-2.06.94zm-11 1L8.5 8.5l.94-2.06 2.06-.94-2.06-.94L8.5 2.5l-.94 2.06-2.06.94zm10 10l.94 2.06.94-2.06 2.06-.94-2.06-.94-.94-2.06-.94 2.06-2.06.94z\"/><path d=\"M17.41 7.96l-1.37-1.37c-.4-.4-.92-.59-1.43-.59-.52 0-1.04.2-1.43.59L10.3 9.45l-7.72 7.72c-.78.78-.78 2.05 0 2.83L4 21.41c.39.39.9.59 1.41.59.51 0 1.02-.2 1.41-.59l7.78-7.78 2.81-2.81c.8-.78.8-2.07 0-2.86zM5.41 20L4 18.59l7.72-7.72 1.47 1.35L5.41 20z\"/>\n",
              "  </svg>\n",
              "      </button>\n",
              "      \n",
              "  <style>\n",
              "    .colab-df-container {\n",
              "      display:flex;\n",
              "      flex-wrap:wrap;\n",
              "      gap: 12px;\n",
              "    }\n",
              "\n",
              "    .colab-df-convert {\n",
              "      background-color: #E8F0FE;\n",
              "      border: none;\n",
              "      border-radius: 50%;\n",
              "      cursor: pointer;\n",
              "      display: none;\n",
              "      fill: #1967D2;\n",
              "      height: 32px;\n",
              "      padding: 0 0 0 0;\n",
              "      width: 32px;\n",
              "    }\n",
              "\n",
              "    .colab-df-convert:hover {\n",
              "      background-color: #E2EBFA;\n",
              "      box-shadow: 0px 1px 2px rgba(60, 64, 67, 0.3), 0px 1px 3px 1px rgba(60, 64, 67, 0.15);\n",
              "      fill: #174EA6;\n",
              "    }\n",
              "\n",
              "    [theme=dark] .colab-df-convert {\n",
              "      background-color: #3B4455;\n",
              "      fill: #D2E3FC;\n",
              "    }\n",
              "\n",
              "    [theme=dark] .colab-df-convert:hover {\n",
              "      background-color: #434B5C;\n",
              "      box-shadow: 0px 1px 3px 1px rgba(0, 0, 0, 0.15);\n",
              "      filter: drop-shadow(0px 1px 2px rgba(0, 0, 0, 0.3));\n",
              "      fill: #FFFFFF;\n",
              "    }\n",
              "  </style>\n",
              "\n",
              "      <script>\n",
              "        const buttonEl =\n",
              "          document.querySelector('#df-8925ae65-15b5-46b4-aee9-625159e8f601 button.colab-df-convert');\n",
              "        buttonEl.style.display =\n",
              "          google.colab.kernel.accessAllowed ? 'block' : 'none';\n",
              "\n",
              "        async function convertToInteractive(key) {\n",
              "          const element = document.querySelector('#df-8925ae65-15b5-46b4-aee9-625159e8f601');\n",
              "          const dataTable =\n",
              "            await google.colab.kernel.invokeFunction('convertToInteractive',\n",
              "                                                     [key], {});\n",
              "          if (!dataTable) return;\n",
              "\n",
              "          const docLinkHtml = 'Like what you see? Visit the ' +\n",
              "            '<a target=\"_blank\" href=https://colab.research.google.com/notebooks/data_table.ipynb>data table notebook</a>'\n",
              "            + ' to learn more about interactive tables.';\n",
              "          element.innerHTML = '';\n",
              "          dataTable['output_type'] = 'display_data';\n",
              "          await google.colab.output.renderOutput(dataTable, element);\n",
              "          const docLink = document.createElement('div');\n",
              "          docLink.innerHTML = docLinkHtml;\n",
              "          element.appendChild(docLink);\n",
              "        }\n",
              "      </script>\n",
              "    </div>\n",
              "  </div>\n",
              "  "
            ]
          },
          "metadata": {},
          "execution_count": 2
        }
      ]
    },
    {
      "cell_type": "code",
      "source": [
        "song_df.shape                           # 20,0000 rows and 15 columns in the dataset"
      ],
      "metadata": {
        "id": "MVbaKUX9cz6y",
        "outputId": "a1e12431-91a8-4454-d15b-c6f2bbd0357f",
        "colab": {
          "base_uri": "https://localhost:8080/"
        }
      },
      "execution_count": 3,
      "outputs": [
        {
          "output_type": "execute_result",
          "data": {
            "text/plain": [
              "(2498, 15)"
            ]
          },
          "metadata": {},
          "execution_count": 3
        }
      ]
    },
    {
      "cell_type": "code",
      "source": [
        "song_df.drop('id', axis=1, inplace=True)"
      ],
      "metadata": {
        "id": "6NEhLk6lgFIr"
      },
      "execution_count": 4,
      "outputs": []
    },
    {
      "cell_type": "code",
      "source": [
        "song_df.describe()                      # as the count row is not all 20,000 this tells us that there are null values that need to be dropped in some of the columns"
      ],
      "metadata": {
        "id": "M4w9pp5IeOfA",
        "outputId": "cf596f56-943b-423c-b4e2-dc8f829569de",
        "colab": {
          "base_uri": "https://localhost:8080/",
          "height": 300
        }
      },
      "execution_count": 5,
      "outputs": [
        {
          "output_type": "execute_result",
          "data": {
            "text/plain": [
              "       song_duration_ms  acousticness  danceability       energy  \\\n",
              "count       2247.000000   2254.000000   2261.000000  2253.000000   \n",
              "mean      192646.306186      0.278503      0.568458     0.681626   \n",
              "std        44436.269819      0.297922      0.191869     0.213564   \n",
              "min        42109.000000     -0.010766      0.077057     0.037646   \n",
              "25%       166435.500000      0.039280      0.424706     0.543100   \n",
              "50%       186798.000000      0.141846      0.604645     0.699832   \n",
              "75%       213463.000000      0.478014      0.716935     0.867654   \n",
              "max       414414.000000      1.065284      0.925170     1.024361   \n",
              "\n",
              "       instrumentalness          key     liveness     loudness   audio_mode  \\\n",
              "count       2255.000000  2261.000000  2232.000000  2238.000000  2498.000000   \n",
              "mean           0.039851     4.896948     0.198706    -7.343748     0.314251   \n",
              "std            0.159469     3.415153     0.153489     3.901285     0.464310   \n",
              "min           -0.002523     0.000000     0.032782   -29.043994     0.000000   \n",
              "25%            0.000994     2.000000     0.112093    -9.306378     0.000000   \n",
              "50%            0.002025     5.000000     0.135795    -6.281367     0.000000   \n",
              "75%            0.003196     8.000000     0.210705    -4.567081     1.000000   \n",
              "max            1.007672    11.000000     0.980411    -1.099458     1.000000   \n",
              "\n",
              "       speechiness        tempo  time_signature  audio_valence  \\\n",
              "count  2498.000000  2498.000000     2498.000000    2498.000000   \n",
              "mean      0.094740   115.963598        3.400721       0.580343   \n",
              "std       0.084072    25.589144        0.514849       0.239146   \n",
              "min       0.021477    63.977202        2.000000       0.041047   \n",
              "25%       0.038926    96.423734        3.000000       0.397502   \n",
              "50%       0.055847   112.994110        3.000000       0.600443   \n",
              "75%       0.121436   127.570636        4.000000       0.759454   \n",
              "max       0.560748   212.543550        5.000000       1.001118   \n",
              "\n",
              "       song_popularity  \n",
              "count      2498.000000  \n",
              "mean          0.370697  \n",
              "std           0.483088  \n",
              "min           0.000000  \n",
              "25%           0.000000  \n",
              "50%           0.000000  \n",
              "75%           1.000000  \n",
              "max           1.000000  "
            ],
            "text/html": [
              "\n",
              "  <div id=\"df-e12c266b-6412-462a-9666-05a02f7d5e2e\">\n",
              "    <div class=\"colab-df-container\">\n",
              "      <div>\n",
              "<style scoped>\n",
              "    .dataframe tbody tr th:only-of-type {\n",
              "        vertical-align: middle;\n",
              "    }\n",
              "\n",
              "    .dataframe tbody tr th {\n",
              "        vertical-align: top;\n",
              "    }\n",
              "\n",
              "    .dataframe thead th {\n",
              "        text-align: right;\n",
              "    }\n",
              "</style>\n",
              "<table border=\"1\" class=\"dataframe\">\n",
              "  <thead>\n",
              "    <tr style=\"text-align: right;\">\n",
              "      <th></th>\n",
              "      <th>song_duration_ms</th>\n",
              "      <th>acousticness</th>\n",
              "      <th>danceability</th>\n",
              "      <th>energy</th>\n",
              "      <th>instrumentalness</th>\n",
              "      <th>key</th>\n",
              "      <th>liveness</th>\n",
              "      <th>loudness</th>\n",
              "      <th>audio_mode</th>\n",
              "      <th>speechiness</th>\n",
              "      <th>tempo</th>\n",
              "      <th>time_signature</th>\n",
              "      <th>audio_valence</th>\n",
              "      <th>song_popularity</th>\n",
              "    </tr>\n",
              "  </thead>\n",
              "  <tbody>\n",
              "    <tr>\n",
              "      <th>count</th>\n",
              "      <td>2247.000000</td>\n",
              "      <td>2254.000000</td>\n",
              "      <td>2261.000000</td>\n",
              "      <td>2253.000000</td>\n",
              "      <td>2255.000000</td>\n",
              "      <td>2261.000000</td>\n",
              "      <td>2232.000000</td>\n",
              "      <td>2238.000000</td>\n",
              "      <td>2498.000000</td>\n",
              "      <td>2498.000000</td>\n",
              "      <td>2498.000000</td>\n",
              "      <td>2498.000000</td>\n",
              "      <td>2498.000000</td>\n",
              "      <td>2498.000000</td>\n",
              "    </tr>\n",
              "    <tr>\n",
              "      <th>mean</th>\n",
              "      <td>192646.306186</td>\n",
              "      <td>0.278503</td>\n",
              "      <td>0.568458</td>\n",
              "      <td>0.681626</td>\n",
              "      <td>0.039851</td>\n",
              "      <td>4.896948</td>\n",
              "      <td>0.198706</td>\n",
              "      <td>-7.343748</td>\n",
              "      <td>0.314251</td>\n",
              "      <td>0.094740</td>\n",
              "      <td>115.963598</td>\n",
              "      <td>3.400721</td>\n",
              "      <td>0.580343</td>\n",
              "      <td>0.370697</td>\n",
              "    </tr>\n",
              "    <tr>\n",
              "      <th>std</th>\n",
              "      <td>44436.269819</td>\n",
              "      <td>0.297922</td>\n",
              "      <td>0.191869</td>\n",
              "      <td>0.213564</td>\n",
              "      <td>0.159469</td>\n",
              "      <td>3.415153</td>\n",
              "      <td>0.153489</td>\n",
              "      <td>3.901285</td>\n",
              "      <td>0.464310</td>\n",
              "      <td>0.084072</td>\n",
              "      <td>25.589144</td>\n",
              "      <td>0.514849</td>\n",
              "      <td>0.239146</td>\n",
              "      <td>0.483088</td>\n",
              "    </tr>\n",
              "    <tr>\n",
              "      <th>min</th>\n",
              "      <td>42109.000000</td>\n",
              "      <td>-0.010766</td>\n",
              "      <td>0.077057</td>\n",
              "      <td>0.037646</td>\n",
              "      <td>-0.002523</td>\n",
              "      <td>0.000000</td>\n",
              "      <td>0.032782</td>\n",
              "      <td>-29.043994</td>\n",
              "      <td>0.000000</td>\n",
              "      <td>0.021477</td>\n",
              "      <td>63.977202</td>\n",
              "      <td>2.000000</td>\n",
              "      <td>0.041047</td>\n",
              "      <td>0.000000</td>\n",
              "    </tr>\n",
              "    <tr>\n",
              "      <th>25%</th>\n",
              "      <td>166435.500000</td>\n",
              "      <td>0.039280</td>\n",
              "      <td>0.424706</td>\n",
              "      <td>0.543100</td>\n",
              "      <td>0.000994</td>\n",
              "      <td>2.000000</td>\n",
              "      <td>0.112093</td>\n",
              "      <td>-9.306378</td>\n",
              "      <td>0.000000</td>\n",
              "      <td>0.038926</td>\n",
              "      <td>96.423734</td>\n",
              "      <td>3.000000</td>\n",
              "      <td>0.397502</td>\n",
              "      <td>0.000000</td>\n",
              "    </tr>\n",
              "    <tr>\n",
              "      <th>50%</th>\n",
              "      <td>186798.000000</td>\n",
              "      <td>0.141846</td>\n",
              "      <td>0.604645</td>\n",
              "      <td>0.699832</td>\n",
              "      <td>0.002025</td>\n",
              "      <td>5.000000</td>\n",
              "      <td>0.135795</td>\n",
              "      <td>-6.281367</td>\n",
              "      <td>0.000000</td>\n",
              "      <td>0.055847</td>\n",
              "      <td>112.994110</td>\n",
              "      <td>3.000000</td>\n",
              "      <td>0.600443</td>\n",
              "      <td>0.000000</td>\n",
              "    </tr>\n",
              "    <tr>\n",
              "      <th>75%</th>\n",
              "      <td>213463.000000</td>\n",
              "      <td>0.478014</td>\n",
              "      <td>0.716935</td>\n",
              "      <td>0.867654</td>\n",
              "      <td>0.003196</td>\n",
              "      <td>8.000000</td>\n",
              "      <td>0.210705</td>\n",
              "      <td>-4.567081</td>\n",
              "      <td>1.000000</td>\n",
              "      <td>0.121436</td>\n",
              "      <td>127.570636</td>\n",
              "      <td>4.000000</td>\n",
              "      <td>0.759454</td>\n",
              "      <td>1.000000</td>\n",
              "    </tr>\n",
              "    <tr>\n",
              "      <th>max</th>\n",
              "      <td>414414.000000</td>\n",
              "      <td>1.065284</td>\n",
              "      <td>0.925170</td>\n",
              "      <td>1.024361</td>\n",
              "      <td>1.007672</td>\n",
              "      <td>11.000000</td>\n",
              "      <td>0.980411</td>\n",
              "      <td>-1.099458</td>\n",
              "      <td>1.000000</td>\n",
              "      <td>0.560748</td>\n",
              "      <td>212.543550</td>\n",
              "      <td>5.000000</td>\n",
              "      <td>1.001118</td>\n",
              "      <td>1.000000</td>\n",
              "    </tr>\n",
              "  </tbody>\n",
              "</table>\n",
              "</div>\n",
              "      <button class=\"colab-df-convert\" onclick=\"convertToInteractive('df-e12c266b-6412-462a-9666-05a02f7d5e2e')\"\n",
              "              title=\"Convert this dataframe to an interactive table.\"\n",
              "              style=\"display:none;\">\n",
              "        \n",
              "  <svg xmlns=\"http://www.w3.org/2000/svg\" height=\"24px\"viewBox=\"0 0 24 24\"\n",
              "       width=\"24px\">\n",
              "    <path d=\"M0 0h24v24H0V0z\" fill=\"none\"/>\n",
              "    <path d=\"M18.56 5.44l.94 2.06.94-2.06 2.06-.94-2.06-.94-.94-2.06-.94 2.06-2.06.94zm-11 1L8.5 8.5l.94-2.06 2.06-.94-2.06-.94L8.5 2.5l-.94 2.06-2.06.94zm10 10l.94 2.06.94-2.06 2.06-.94-2.06-.94-.94-2.06-.94 2.06-2.06.94z\"/><path d=\"M17.41 7.96l-1.37-1.37c-.4-.4-.92-.59-1.43-.59-.52 0-1.04.2-1.43.59L10.3 9.45l-7.72 7.72c-.78.78-.78 2.05 0 2.83L4 21.41c.39.39.9.59 1.41.59.51 0 1.02-.2 1.41-.59l7.78-7.78 2.81-2.81c.8-.78.8-2.07 0-2.86zM5.41 20L4 18.59l7.72-7.72 1.47 1.35L5.41 20z\"/>\n",
              "  </svg>\n",
              "      </button>\n",
              "      \n",
              "  <style>\n",
              "    .colab-df-container {\n",
              "      display:flex;\n",
              "      flex-wrap:wrap;\n",
              "      gap: 12px;\n",
              "    }\n",
              "\n",
              "    .colab-df-convert {\n",
              "      background-color: #E8F0FE;\n",
              "      border: none;\n",
              "      border-radius: 50%;\n",
              "      cursor: pointer;\n",
              "      display: none;\n",
              "      fill: #1967D2;\n",
              "      height: 32px;\n",
              "      padding: 0 0 0 0;\n",
              "      width: 32px;\n",
              "    }\n",
              "\n",
              "    .colab-df-convert:hover {\n",
              "      background-color: #E2EBFA;\n",
              "      box-shadow: 0px 1px 2px rgba(60, 64, 67, 0.3), 0px 1px 3px 1px rgba(60, 64, 67, 0.15);\n",
              "      fill: #174EA6;\n",
              "    }\n",
              "\n",
              "    [theme=dark] .colab-df-convert {\n",
              "      background-color: #3B4455;\n",
              "      fill: #D2E3FC;\n",
              "    }\n",
              "\n",
              "    [theme=dark] .colab-df-convert:hover {\n",
              "      background-color: #434B5C;\n",
              "      box-shadow: 0px 1px 3px 1px rgba(0, 0, 0, 0.15);\n",
              "      filter: drop-shadow(0px 1px 2px rgba(0, 0, 0, 0.3));\n",
              "      fill: #FFFFFF;\n",
              "    }\n",
              "  </style>\n",
              "\n",
              "      <script>\n",
              "        const buttonEl =\n",
              "          document.querySelector('#df-e12c266b-6412-462a-9666-05a02f7d5e2e button.colab-df-convert');\n",
              "        buttonEl.style.display =\n",
              "          google.colab.kernel.accessAllowed ? 'block' : 'none';\n",
              "\n",
              "        async function convertToInteractive(key) {\n",
              "          const element = document.querySelector('#df-e12c266b-6412-462a-9666-05a02f7d5e2e');\n",
              "          const dataTable =\n",
              "            await google.colab.kernel.invokeFunction('convertToInteractive',\n",
              "                                                     [key], {});\n",
              "          if (!dataTable) return;\n",
              "\n",
              "          const docLinkHtml = 'Like what you see? Visit the ' +\n",
              "            '<a target=\"_blank\" href=https://colab.research.google.com/notebooks/data_table.ipynb>data table notebook</a>'\n",
              "            + ' to learn more about interactive tables.';\n",
              "          element.innerHTML = '';\n",
              "          dataTable['output_type'] = 'display_data';\n",
              "          await google.colab.output.renderOutput(dataTable, element);\n",
              "          const docLink = document.createElement('div');\n",
              "          docLink.innerHTML = docLinkHtml;\n",
              "          element.appendChild(docLink);\n",
              "        }\n",
              "      </script>\n",
              "    </div>\n",
              "  </div>\n",
              "  "
            ]
          },
          "metadata": {},
          "execution_count": 5
        }
      ]
    },
    {
      "cell_type": "code",
      "source": [
        "song_df.dropna(inplace=True)          # function used to drop null values from dataset"
      ],
      "metadata": {
        "id": "gSRILMrLee0B"
      },
      "execution_count": 6,
      "outputs": []
    },
    {
      "cell_type": "code",
      "source": [
        "song_df.isnull().sum()                # confirmation that the above worked successfully. There are now no null values left in the dataset"
      ],
      "metadata": {
        "id": "XeUMiivceldR",
        "outputId": "068a97eb-d8ab-47aa-e15b-aaac47a1f0f2",
        "colab": {
          "base_uri": "https://localhost:8080/"
        }
      },
      "execution_count": 7,
      "outputs": [
        {
          "output_type": "execute_result",
          "data": {
            "text/plain": [
              "song_duration_ms    0\n",
              "acousticness        0\n",
              "danceability        0\n",
              "energy              0\n",
              "instrumentalness    0\n",
              "key                 0\n",
              "liveness            0\n",
              "loudness            0\n",
              "audio_mode          0\n",
              "speechiness         0\n",
              "tempo               0\n",
              "time_signature      0\n",
              "audio_valence       0\n",
              "song_popularity     0\n",
              "dtype: int64"
            ]
          },
          "metadata": {},
          "execution_count": 7
        }
      ]
    },
    {
      "cell_type": "code",
      "source": [
        "features = list(song_df.columns[0:13])    # independant variables now put into a list \n",
        "\n",
        "X = song_df[features]                     # X variable now assigned the above list from column \"song_duration_ms\" through \"audio_valence\"\n",
        "y = song_df['song_popularity']            # y is the target variable as we are trying to predict \"song popularity\"\n"
      ],
      "metadata": {
        "id": "bwzLjlt7g0hZ"
      },
      "execution_count": 8,
      "outputs": []
    },
    {
      "cell_type": "markdown",
      "metadata": {
        "id": "f-u9mMb4HMOy"
      },
      "source": [
        "A single train/test split is made easy with the train_test_split function in the cross_validation library:"
      ]
    },
    {
      "cell_type": "code",
      "metadata": {
        "id": "P66tNmjjHMOz",
        "outputId": "46abc4bd-1a31-483b-a781-14b0e1c7e79c",
        "colab": {
          "base_uri": "https://localhost:8080/"
        }
      },
      "source": [
        "\n",
        "X_train, X_test, y_train, y_test = train_test_split(X, y, test_size=0.3, random_state=0)        # Training and test data split out into different data sets - 70/30 split\n",
        "\n",
        "\n",
        "song_clf = svm.SVC(kernel='linear', C=1).fit(X_train, y_train)                                  # Support Vector Machine is now fit with the training data in order to predict song popularity\n",
        "\n",
        "\n",
        "print(song_clf.score(X_train, y_train))                                                               # Print the accuracy score for the training data\n",
        "print(song_clf.score(X_test, y_test))                                                                 # Now we test the unseen training data to see how the SVM prediction performs"
      ],
      "execution_count": 13,
      "outputs": [
        {
          "output_type": "stream",
          "name": "stdout",
          "text": [
            "0.6151832460732984\n",
            "0.5975609756097561\n"
          ]
        }
      ]
    },
    {
      "cell_type": "markdown",
      "metadata": {
        "id": "4iD4XuK9HMO4"
      },
      "source": [
        "K-Fold cross validation is just as easy; let's use a K of 5:"
      ]
    },
    {
      "cell_type": "code",
      "metadata": {
        "id": "E46kVI3rHMO4",
        "outputId": "43e25bd1-c80e-4071-a528-42c7a926dc80",
        "colab": {
          "base_uri": "https://localhost:8080/"
        }
      },
      "source": [
        "# We give cross_val_score a model, the entire data set and its \"real\" values, and the number of folds:\n",
        "scores = cross_val_score(song_clf, X, y, cv=5)\n",
        "\n",
        "# Print the accuracy for each fold:\n",
        "print(scores)                                       # The model scores slightly better when using cross validation. The score for the SVM was 59% and the Cross Validation score is 62% \n",
        "\n",
        "# And the mean accuracy of all 5 folds:\n",
        "print(scores.mean())"
      ],
      "execution_count": 14,
      "outputs": [
        {
          "output_type": "stream",
          "name": "stdout",
          "text": [
            "[0.61818182 0.63636364 0.6146789  0.62385321 0.62385321 0.62385321\n",
            " 0.6146789  0.62385321 0.62385321 0.62385321]\n",
            "0.6227022518765637\n"
          ]
        }
      ]
    },
    {
      "cell_type": "markdown",
      "metadata": {
        "id": "GCNGZhz8HMO7"
      },
      "source": [
        "Our model is even better than we thought! Can we do better? Let's try a different kernel (poly):"
      ]
    },
    {
      "cell_type": "code",
      "metadata": {
        "id": "YQYt9XvmHMO7",
        "outputId": "74c7fe90-a183-4c7f-f9d8-0745e92e42bf",
        "colab": {
          "base_uri": "https://localhost:8080/"
        }
      },
      "source": [
        "song_clf = svm.SVC(kernel='poly', C=1)\n",
        "scores = cross_val_score(song_clf, X, y, cv=5)\n",
        "print(scores)\n",
        "print(scores.mean())"
      ],
      "execution_count": 11,
      "outputs": [
        {
          "output_type": "stream",
          "name": "stdout",
          "text": [
            "[0.62557078 0.62557078 0.62844037 0.62385321 0.62385321]\n",
            "0.6254576683004481\n"
          ]
        }
      ]
    },
    {
      "cell_type": "markdown",
      "metadata": {
        "id": "56-IZvoKHMO-"
      },
      "source": [
        "No! The more complex polynomial kernel produced the same accuracy than a simple linear kernel. The polynomial kernel may be overfitting. But we couldn't have told that with a single train/test split:"
      ]
    },
    {
      "cell_type": "code",
      "metadata": {
        "id": "lADSM_ufHMO_",
        "outputId": "141f28fb-08cc-4c5b-aaef-3e517c04b0b4",
        "colab": {
          "base_uri": "https://localhost:8080/"
        }
      },
      "source": [
        "# Build an SVC model for predicting song_df classifications using training data\n",
        "song_clf = svm.SVC(kernel='poly', C=1).fit(X_train, y_train)\n",
        "\n",
        "# Now measure its performance with the test data\n",
        "song_clf.score(X_test, y_test)   "
      ],
      "execution_count": 15,
      "outputs": [
        {
          "output_type": "execute_result",
          "data": {
            "text/plain": [
              "0.625"
            ]
          },
          "metadata": {},
          "execution_count": 15
        }
      ]
    },
    {
      "cell_type": "markdown",
      "metadata": {
        "id": "VWFMzIGPHMPH"
      },
      "source": [
        "We got a similar score with a single train/test split on the linear kernel."
      ]
    },
    {
      "cell_type": "markdown",
      "metadata": {
        "id": "wlDlQ_i9HMPH"
      },
      "source": [
        "## Activity"
      ]
    },
    {
      "cell_type": "code",
      "metadata": {
        "id": "aLjitcyyHMPI"
      },
      "source": [],
      "execution_count": null,
      "outputs": []
    }
  ]
}